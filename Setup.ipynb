{
 "cells": [
  {
   "cell_type": "code",
   "execution_count": 1,
   "metadata": {},
   "outputs": [],
   "source": [
    "import os\n",
    "import json\n",
    "import time\n",
    "from tqdm import tqdm\n",
    "from torch import load, save\n",
    "from numpy import sort\n",
    "from os.path import join\n",
    "from random import shuffle\n",
    "from PIL import Image\n",
    "from matplotlib import pylab as pl\n",
    "%matplotlib inline"
   ]
  },
  {
   "cell_type": "code",
   "execution_count": 2,
   "metadata": {},
   "outputs": [],
   "source": [
    "# Set user-defined parameters\n",
    "\n",
    "inatpath = '.'             # The location of your downloaded 'train_val_images' folder. \n",
    "annopath = '.'             # The location of your downloaded 'train_2017_bboxes.json' file. \n",
    "datapath = '.'             # Wherever you want your new dataset to appear. \n",
    "catsize_min = 50           # The smallest category allowed in our data set\n",
    "catsize_max = 1000         # The largest category allowed in our data set\n",
    "is_tiered = False          # Create meta-iNat or tiered meta-iNat? Overrides random_assign.\n",
    "random_assign = False      # Split categories randomly over the representation and evaluation sets, \n",
    "                           # or use the splits from the paper? \n",
    "\n",
    "if not is_tiered and not random_assign:\n",
    "    assert catsize_min==50 and catsize_max==1000, 'The provided splits work only for category sizes between 50 and 1000.'"
   ]
  },
  {
   "cell_type": "code",
   "execution_count": 3,
   "metadata": {},
   "outputs": [
    {
     "name": "stdout",
     "output_type": "stream",
     "text": [
      "Built annotation dictionaries\n"
     ]
    }
   ],
   "source": [
    "# Compile bounding box annotations for each image id\n",
    "\n",
    "with open(join(annopath,'train_2017_bboxes.json')) as f:\n",
    "    allinfo = json.load(f)\n",
    "annolist = allinfo['annotations']\n",
    "\n",
    "annodict = dict() # im_id to list of box_ids\n",
    "boxdict = dict() # box_id to box coords\n",
    "catdict = dict() # dict of numerical category codes / labels to corresponding list of image ids\n",
    "for d in annolist:\n",
    "    im = d['image_id']\n",
    "    boxid = d['id']\n",
    "    cat = d['category_id']\n",
    "    \n",
    "    # Add box_id to image entry\n",
    "    if im in annodict:\n",
    "        annodict[im].append(boxid)\n",
    "    else:\n",
    "        annodict[im] = [boxid]\n",
    "        \n",
    "    # Add mapping from box_id to box\n",
    "    boxdict[boxid] = d['bbox']\n",
    "    \n",
    "    # Add image to category set\n",
    "    if cat in catdict:\n",
    "        catdict[cat].add(im)\n",
    "    else:\n",
    "        catdict[cat] = set([im])\n",
    "    \n",
    "print(\"Built annotation dictionaries\")"
   ]
  },
  {
   "cell_type": "code",
   "execution_count": 4,
   "metadata": {},
   "outputs": [
    {
     "name": "stdout",
     "output_type": "stream",
     "text": [
      "Built path dictionary\n"
     ]
    }
   ],
   "source": [
    "# assemble im_id -> filepath dictionary\n",
    "namelist = allinfo['images']\n",
    "keys = []\n",
    "vals = []\n",
    "for d in namelist:\n",
    "    keys.append(d['id'])\n",
    "    vals.append(join(inatpath,d['file_name']))\n",
    "pather = dict(zip(keys,vals))\n",
    "\n",
    "print(\"Built path dictionary\")"
   ]
  },
  {
   "cell_type": "code",
   "execution_count": 5,
   "metadata": {},
   "outputs": [
    {
     "name": "stdout",
     "output_type": "stream",
     "text": [
      "Detected 1135 categories of the desired size\n"
     ]
    },
    {
     "data": {
      "image/png": "[encoded data removed]",
      "text/plain": [
       "<Figure size 432x288 with 1 Axes>"
      ]
     },
     "metadata": {
      "needs_background": "light"
     },
     "output_type": "display_data"
    }
   ],
   "source": [
    "# Visualize the categories that meet the given size requirements\n",
    "\n",
    "catsizes = sort([(len(catdict[c])) for c in catdict if len(catdict[c]) >= catsize_min and len(catdict[c]) <= catsize_max])\n",
    "print('Detected %d categories of the desired size' % len(catsizes))\n",
    "pl.figure()\n",
    "pl.plot(catsizes[::-1])\n",
    "pl.title('Category Sizes (Sorted)')\n",
    "pl.ylabel('# Images')\n",
    "pl.xlabel('Sorted Categories')\n",
    "pl.show()"
   ]
  },
  {
   "cell_type": "code",
   "execution_count": 6,
   "metadata": {},
   "outputs": [
    {
     "name": "stdout",
     "output_type": "stream",
     "text": [
      "Initial size: 2854 categories\n",
      "Final size: 1135 categories\n",
      "\n",
      "Supercategory distributions:\n",
      "Insecta: 332\n",
      "Animalia: 22\n",
      "Aves: 478\n",
      "Reptilia: 124\n",
      "Amphibia: 50\n",
      "Mammalia: 67\n",
      "Actinopterygii: 7\n",
      "Arachnida: 22\n",
      "Mollusca: 33\n"
     ]
    }
   ],
   "source": [
    "# Pare down the category dictionary to the desired size\n",
    "\n",
    "print('Initial size: %d categories' % len(list(catdict.keys())))\n",
    "clist = list(catdict.keys())\n",
    "for c in clist:\n",
    "    if len(catdict[c]) < catsize_min or len(catdict[c]) > catsize_max:\n",
    "        catdict.pop(c)\n",
    "print('Final size: %d categories' % len(list(catdict.keys())))\n",
    "\n",
    "supercat = dict()\n",
    "for d in allinfo['categories']:\n",
    "    catid = d['id']\n",
    "    if catid in catdict:\n",
    "        sc = d['supercategory']\n",
    "        if sc in supercat:\n",
    "            supercat[sc].append(catid)\n",
    "        else:\n",
    "            supercat[sc] = [catid,]\n",
    "print('\\nSupercategory distributions:')\n",
    "for sc in supercat:\n",
    "    print(sc+':', len(supercat[sc]))"
   ]
  },
  {
   "cell_type": "code",
   "execution_count": 7,
   "metadata": {},
   "outputs": [
    {
     "name": "stdout",
     "output_type": "stream",
     "text": [
      "Category splits assigned. \n",
      "Representation set has 908 of 1135 concepts, evaluation has 227.\n"
     ]
    }
   ],
   "source": [
    "# Create category splits\n",
    "\n",
    "if is_tiered:\n",
    "    traincatlist = (supercat['Animalia']+supercat['Aves']+supercat['Reptilia']+supercat['Amphibia']\n",
    "                   +supercat['Mammalia']+supercat['Actinopterygii']+supercat['Mollusca'])\n",
    "    testcatlist = supercat['Insecta']+supercat['Arachnida']\n",
    "elif random_assign:\n",
    "    catlist = list(catdict.keys())\n",
    "    shuffle(catlist)\n",
    "    testlen = len(catlist)//5\n",
    "    testcatlist = catlist[:testlen]\n",
    "    traincatlist = catlist[testlen:]\n",
    "else:\n",
    "    traincatlist = load(join('helpful_files','traincatlist.pth'))\n",
    "    testcatlist = load(join('helpful_files','testcatlist.pth'))\n",
    "\n",
    "print('Category splits assigned. \\nRepresentation set has %d of %d concepts, evaluation has %d.' \n",
    "      % (len(traincatlist), len(list(catdict.keys())), len(testcatlist)))"
   ]
  },
  {
   "cell_type": "code",
   "execution_count": 8,
   "metadata": {},
   "outputs": [
    {
     "name": "stderr",
     "output_type": "stream",
     "text": [
      "100%|██████████| 908/908 [00:28<00:00, 32.08it/s]\n"
     ]
    },
    {
     "name": "stdout",
     "output_type": "stream",
     "text": [
      "Representation set complete!\n"
     ]
    }
   ],
   "source": [
    "# Build representation set\n",
    "\n",
    "boxdict_smaller = dict()\n",
    "catlist = traincatlist\n",
    "for c in tqdm(catlist):\n",
    "    # For each category:\n",
    "    if not os.path.exists(join(datapath,'train',str(c))):\n",
    "        os.makedirs(join(datapath,'train',str(c)))\n",
    "    ims = catdict[c]\n",
    "    for imkey in ims:\n",
    "        # For each image:\n",
    "        path = pather[imkey]\n",
    "        filename = path[path.rfind(os.path.sep)+1:path.rfind('.')]+'.png'\n",
    "        file = join(str(c),filename)\n",
    "        newpath = join(datapath,'train',file)\n",
    "        # Downsize the image to 84x84\n",
    "        with open(path, 'rb') as f:\n",
    "            p = Image.open(f)\n",
    "            w,h = p.size\n",
    "            p = p.convert('RGB')\n",
    "        p = p.resize((84, 84), Image.BILINEAR)\n",
    "        p.save(newpath)\n",
    "        # Downsize the bounding box annotations to 10x10\n",
    "        boxes = annodict[imkey]\n",
    "        boxdict_smaller[str(c)+'/'+filename] = []\n",
    "        for boxcode in boxes:\n",
    "            box = boxdict[boxcode]\n",
    "            xmin = box[0]\n",
    "            xmax = box[2]+xmin\n",
    "            ymin = box[1]\n",
    "            ymax = box[3]+ymin\n",
    "            boxdict_smaller[file].append([xmin*10/w, ymin*10/h, xmax*10/w, ymax*10/h])\n",
    "\n",
    "time.sleep(.1)\n",
    "print(\"Representation set complete!\")"
   ]
  },
  {
   "cell_type": "code",
   "execution_count": 9,
   "metadata": {},
   "outputs": [
    {
     "name": "stderr",
     "output_type": "stream",
     "text": [
      "100%|██████████| 227/227 [00:06<00:00, 33.44it/s]\n"
     ]
    },
    {
     "name": "stdout",
     "output_type": "stream",
     "text": [
      "Evaluation set complete!\n"
     ]
    }
   ],
   "source": [
    "# Build evaluation set\n",
    "\n",
    "catlist = testcatlist\n",
    "for c in tqdm(catlist):\n",
    "    # For each category:\n",
    "    if not os.path.exists(join(datapath,'test',str(c))):\n",
    "        os.makedirs(join(datapath,'test',str(c)))\n",
    "    ims = catdict[c]\n",
    "    for imkey in ims:\n",
    "        # For each image:\n",
    "        path = pather[imkey]\n",
    "        filename = path[path.rfind(os.path.sep)+1:path.rfind('.')]+'.png'\n",
    "        file = join(str(c),filename)\n",
    "        newpath = join(datapath,'test',file)\n",
    "        # Downsize the image to 84x84\n",
    "        with open(path, 'rb') as f:\n",
    "            p = Image.open(f)\n",
    "            w,h = p.size\n",
    "            p = p.convert('RGB')\n",
    "        p = p.resize((84, 84), Image.BILINEAR)\n",
    "        p.save(newpath)\n",
    "        # Downsize the bounding box annotations to 10x10\n",
    "        boxes = annodict[imkey]\n",
    "        boxdict_smaller[str(c)+'/'+filename] = []\n",
    "        for boxcode in boxes:\n",
    "            box = boxdict[boxcode]\n",
    "            xmin = box[0]\n",
    "            xmax = box[2]+xmin\n",
    "            ymin = box[1]\n",
    "            ymax = box[3]+ymin\n",
    "            boxdict_smaller[file].append([xmin*10/w, ymin*10/h, xmax*10/w, ymax*10/h])\n",
    "\n",
    "save(boxdict_smaller, join(datapath,'box_coords.pth'))\n",
    "\n",
    "time.sleep(.1)\n",
    "print(\"Evaluation set complete!\")"
   ]
  },
  {
   "cell_type": "code",
   "execution_count": 10,
   "metadata": {},
   "outputs": [
    {
     "name": "stderr",
     "output_type": "stream",
     "text": [
      "100%|██████████| 227/227 [00:00<00:00, 529.03it/s]\n"
     ]
    },
    {
     "name": "stdout",
     "output_type": "stream",
     "text": [
      "Reference images compiled!\n"
     ]
    }
   ],
   "source": [
    "# Compile reference images within the evaluation set\n",
    "\n",
    "catlist = testcatlist\n",
    "for c in tqdm(catlist):\n",
    "    # For each category:\n",
    "    if not os.path.exists(join(datapath,'refr',str(c))):\n",
    "        os.makedirs(join(datapath,'refr',str(c)))\n",
    "    ims = list(catdict[c])\n",
    "    ims = ims[:len(ims)//5]\n",
    "    for imkey in ims:\n",
    "        # For each image:\n",
    "        path = pather[imkey]\n",
    "        oldpath = join(datapath,'test',str(c),path[path.rfind(os.path.sep)+1:path.rfind('.')]+'.png')\n",
    "        newpath = join(datapath,'refr',str(c),path[path.rfind(os.path.sep)+1:path.rfind('.')]+'.png')\n",
    "        # Create a softlink to the corresponding evaluation set image\n",
    "        os.symlink(oldpath, newpath)\n",
    "        \n",
    "time.sleep(.1)\n",
    "print(\"Reference images compiled!\")"
   ]
  },
  {
   "cell_type": "code",
   "execution_count": 11,
   "metadata": {},
   "outputs": [
    {
     "name": "stderr",
     "output_type": "stream",
     "text": [
      "100%|██████████| 227/227 [00:01<00:00, 184.25it/s]\n"
     ]
    },
    {
     "name": "stdout",
     "output_type": "stream",
     "text": [
      "Query images compiled!\n"
     ]
    }
   ],
   "source": [
    "# Compile query images within the evaluation set\n",
    "\n",
    "catlist = testcatlist\n",
    "for c in tqdm(catlist):\n",
    "    # For each category:\n",
    "    if not os.path.exists(join(datapath,'query',str(c))):\n",
    "        os.makedirs(join(datapath,'query',str(c)))\n",
    "    ims = list(catdict[c])\n",
    "    ims = ims[len(ims)//5:]\n",
    "    for imkey in ims:\n",
    "        # For each image:\n",
    "        path = pather[imkey]\n",
    "        oldpath = join(datapath,'test',str(c),path[path.rfind(os.path.sep)+1:path.rfind('.')]+'.png')\n",
    "        newpath = join(datapath,'query',str(c),path[path.rfind(os.path.sep)+1:path.rfind('.')]+'.png')\n",
    "        # Create a softlink to the corresponding evaluation set image\n",
    "        os.symlink(oldpath, newpath)\n",
    "        \n",
    "time.sleep(.1)\n",
    "print(\"Query images compiled!\")"
   ]
  },
  {
   "cell_type": "code",
   "execution_count": 12,
   "metadata": {},
   "outputs": [
    {
     "name": "stdout",
     "output_type": "stream",
     "text": [
      "Your md5 hash is: fcc785ea360b904674cac7184de3c4a7\n",
      "\n",
      "Congratulations! Your dataset appears to be a faithful reproduction.\n"
     ]
    }
   ],
   "source": [
    "# Use a recursive md5 checksum to verify that the constructed dataset reproduces the original\n",
    "\n",
    "# NOTE: this code only checks the assignments of photos to categories. \n",
    "# Thus, changing any file or folder names WILL cause the check to fail, even if the images themselves are still correct.\n",
    "\n",
    "import hashlib\n",
    "\n",
    "# Get hashes of relative locations for each photo in the dataset\n",
    "hashlist = []\n",
    "subdirs = ['train', 'test', 'refr', 'query']\n",
    "for subdir in subdirs:\n",
    "    for cat in os.listdir(join(datapath,subdir)):\n",
    "        hashlist = hashlist + [hashlib.md5(join(subdir,cat,file).encode()).hexdigest() \n",
    "                               for file in os.listdir(join(datapath,subdir,cat))]\n",
    "# Get a hash for the sorted list of hashes\n",
    "hashlist.sort()\n",
    "md5 = hashlib.md5(\"\".join(hashlist).encode()).hexdigest()\n",
    "# Compare\n",
    "print(\"Your md5 hash is:\", md5)\n",
    "print()\n",
    "if not random_assign:\n",
    "    if md5!=(\"fcc785ea360b904674cac7184de3c4a7\" if not is_tiered else \"ba43c60ae907ac9c06b961ea7110f534\"):\n",
    "        print(\"ALERT: Something went wrong. Your dataset does not match the original.\")\n",
    "    else:\n",
    "        print(\"Congratulations! Your dataset appears to be a faithful reproduction.\")"
   ]
  },
  {
   "cell_type": "code",
   "execution_count": 13,
   "metadata": {},
   "outputs": [],
   "source": [
    "# Shut down the notebook"
   ]
  },
  {
   "cell_type": "code",
   "execution_count": null,
   "metadata": {},
   "outputs": [
    {
     "data": {
      "application/javascript": [
       "Jupyter.notebook.session.delete();\n"
      ],
      "text/plain": [
       "<IPython.core.display.Javascript object>"
      ]
     },
     "metadata": {},
     "output_type": "display_data"
    }
   ],
   "source": [
    "%%javascript\n",
    "Jupyter.notebook.session.delete();"
   ]
  }
 ],
 "metadata": {
  "kernelspec": {
   "display_name": "Python 3",
   "language": "python",
   "name": "python3"
  },
  "language_info": {
   "codemirror_mode": {
    "name": "ipython",
    "version": 3
   },
   "file_extension": ".py",
   "mimetype": "text/x-python",
   "name": "python",
   "nbconvert_exporter": "python",
   "pygments_lexer": "ipython3",
   "version": "3.7.9"
  }
 },
 "nbformat": 4,
 "nbformat_minor": 2
}
